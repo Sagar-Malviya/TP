{
 "cells": [
  {
   "cell_type": "code",
   "execution_count": 1,
   "id": "de6ed036",
   "metadata": {},
   "outputs": [],
   "source": [
    "import re"
   ]
  },
  {
   "cell_type": "code",
   "execution_count": 22,
   "id": "b5890d13",
   "metadata": {},
   "outputs": [],
   "source": [
    "text = \"Data Science is most popular field in this time.\""
   ]
  },
  {
   "cell_type": "code",
   "execution_count": 14,
   "id": "196d6f66",
   "metadata": {},
   "outputs": [],
   "source": [
    "match = re.search(r'most',text)"
   ]
  },
  {
   "cell_type": "code",
   "execution_count": 15,
   "id": "909366a7",
   "metadata": {},
   "outputs": [
    {
     "name": "stdout",
     "output_type": "stream",
     "text": [
      "Start Index: 16\n",
      "End Index: 20\n"
     ]
    }
   ],
   "source": [
    "print('Start Index:', match.start())\n",
    "print('End Index:', match.end())"
   ]
  },
  {
   "cell_type": "code",
   "execution_count": 16,
   "id": "816ec54d",
   "metadata": {},
   "outputs": [
    {
     "name": "stdout",
     "output_type": "stream",
     "text": [
      "<re.Match object; span=(0, 1), match='D'>\n"
     ]
    }
   ],
   "source": [
    "match1 = re.search(r'.',text) # return First character of the string \n",
    "print(match1)"
   ]
  },
  {
   "cell_type": "code",
   "execution_count": 23,
   "id": "2362db40",
   "metadata": {},
   "outputs": [
    {
     "name": "stdout",
     "output_type": "stream",
     "text": [
      "<re.Match object; span=(47, 48), match='.'>\n"
     ]
    }
   ],
   "source": [
    "match = re.search(r'\\.',text) # return dot(.) in the string \n",
    "print(match)"
   ]
  },
  {
   "cell_type": "markdown",
   "id": "18ad9450",
   "metadata": {},
   "source": [
    "<b>[] – Square Brackets</b><br>\n",
    "Square Brackets ([]) represent a character class consisting of a set of characters that we wish to match. For example, the character class [abc] will match any single a, b, or c. \n",
    "\n",
    "We can also specify a range of characters using – inside the square brackets. <br>\n",
    "<b>For example</b>\n",
    "\n",
    "[0, 3] is sample as [0123]\n",
    "[a-c] is same as [abc]\n",
    "We can also invert the character class using the caret(^) symbol. For example, \n",
    "\n",
    "[^0-3] means any number except 0, 1, 2, or 3\n",
    "[^a-c] means any character except a, b, or c"
   ]
  },
  {
   "cell_type": "code",
   "execution_count": 26,
   "id": "6a6dfea5",
   "metadata": {},
   "outputs": [
    {
     "name": "stdout",
     "output_type": "stream",
     "text": [
      "['a', 'a', 'c', 'i', 'e', 'c', 'e', 'i', 'm', 'l', 'a', 'f', 'i', 'e', 'l', 'd', 'i', 'h', 'i', 'i', 'm', 'e']\n"
     ]
    }
   ],
   "source": [
    "import re\n",
    "text = \"Data Science is most popular field in this time.\"\n",
    "getc = '[a-m]'\n",
    "match = re.findall(getc, text)\n",
    "print(match)"
   ]
  },
  {
   "cell_type": "markdown",
   "id": "d5b0e88b",
   "metadata": {},
   "source": [
    "<b>^ – Caret</b><br>\n",
    "Caret (^) symbol matches the beginning of the string i.e. checks whether the string starts with the given character(s) or not. For example –  \n",
    "<ul>\n",
    "<li>^g will check if the string starts with g such as geeks, globe, girl, g, etc.</li>\n",
    "<li>^ge will check if the string starts with ge such as geeks, geeksforgeeks, etc.</li></ul>\n"
   ]
  },
  {
   "cell_type": "code",
   "execution_count": 31,
   "id": "52596a7e",
   "metadata": {},
   "outputs": [
    {
     "name": "stdout",
     "output_type": "stream",
     "text": [
      "Matched: The order is ready\n",
      "Matched: The order is delivered\n",
      "No Matched: Thanks\n"
     ]
    }
   ],
   "source": [
    "import re\n",
    "text = \"The order is ready\", 'The order is delivered','Thanks'\n",
    "regex = r'^The'\n",
    "for string in text:\n",
    "    if re.match(regex, string):\n",
    "        print(f\"Matched: {string}\")\n",
    "    else:\n",
    "        print(f\"No Matched: {string}\")"
   ]
  },
  {
   "cell_type": "markdown",
   "id": "b1cc60e2",
   "metadata": {},
   "source": [
    "Dollar($) symbol matches the end of the string i.e checks whether the string ends with the given character(s) or not. For example – \n",
    "\n",
    "s$ will check for the string that ends with a such as geeks, ends, s, etc.\n",
    "ks$ will check for the string that ends with ks such as geeks, geeksforgeeks, ks, etc."
   ]
  },
  {
   "cell_type": "code",
   "execution_count": 34,
   "id": "9f58cd8a",
   "metadata": {},
   "outputs": [
    {
     "name": "stdout",
     "output_type": "stream",
     "text": [
      "matched: The order is ready\n",
      "no matched: The order is delivered\n",
      "no matched: Thanks\n"
     ]
    }
   ],
   "source": [
    "import re \n",
    "text = \"The order is ready\", 'The order is delivered','Thanks'\n",
    "regex = r'ready$'\n",
    "for i in text:\n",
    "    if re.search(regex, i):\n",
    "        print(f'matched: {i}')\n",
    "    else:\n",
    "        print(f'no matched: {i}')"
   ]
  },
  {
   "cell_type": "code",
   "execution_count": 44,
   "id": "0ef3f55c",
   "metadata": {},
   "outputs": [
    {
     "name": "stdout",
     "output_type": "stream",
     "text": [
      "['123456789', '987654321']\n"
     ]
    }
   ],
   "source": [
    "# A Python program to demonstrate working of\n",
    "# findall()\n",
    "import re\n",
    "\n",
    "# A sample text string where regular expression\n",
    "# is searched.\n",
    "string = \"\"\"Hello my Number is 123456789 and\n",
    "\t\t\tmy friend's number is 987654321\"\"\"\n",
    "\n",
    "# A sample regular expression to find digits.\n",
    "regex = '\\d+'\n",
    "\n",
    "match = re.findall(regex, string)\n",
    "print(match)\n",
    "\n",
    "# This example is contributed by Ayush Saluja.\n"
   ]
  },
  {
   "cell_type": "code",
   "execution_count": 45,
   "id": "ad6a1d9f",
   "metadata": {},
   "outputs": [
    {
     "name": "stdout",
     "output_type": "stream",
     "text": [
      "['Words', 'words', 'Words']\n",
      "['Word', 's', 'words', 'Words']\n",
      "['On', '12th', 'Jan', '2016', 'at', '11', '02', 'AM']\n",
      "['On ', 'th Jan ', ', at ', ':', ' AM']\n"
     ]
    }
   ],
   "source": [
    "from re import split\n",
    "\n",
    "# '\\W+' denotes Non-Alphanumeric Characters \n",
    "# or group of characters Upon finding ',' \n",
    "# or whitespace ' ', the split(), splits the\n",
    "# string from that point\n",
    "print(split('\\W+', 'Words, words , Words'))\n",
    "print(split('\\W+', \"Word's words Words\"))\n",
    "\n",
    "# Here ':', ' ' ,',' are not AlphaNumeric thus, \n",
    "# the point where splitting occurs\n",
    "print(split('\\W+', 'On 12th Jan 2016, at 11:02 AM'))\n",
    "\n",
    "# '\\d+' denotes Numeric Characters or group of\n",
    "# characters Splitting occurs at '12', '2016', \n",
    "# '11', '02' only\n",
    "print(split('\\d+', 'On 12th Jan 2016, at 11:02 AM'))\n"
   ]
  },
  {
   "cell_type": "code",
   "execution_count": 46,
   "id": "ea7c1b1f",
   "metadata": {},
   "outputs": [
    {
     "name": "stdout",
     "output_type": "stream",
     "text": [
      "Match at index 14, 21\n",
      "Full match: June 24\n",
      "Month: June\n",
      "Day: 24\n"
     ]
    }
   ],
   "source": [
    "# A Python program to demonstrate working of re.match().\n",
    "import re\n",
    "\n",
    "# Lets use a regular expression to match a date string\n",
    "# in the form of Month name followed by day number\n",
    "regex = r\"([a-zA-Z]+) (\\d+)\"\n",
    "\n",
    "match = re.search(regex, \"I was born on June 24\")\n",
    "\n",
    "if match != None:\n",
    "\n",
    "\t# We reach here when the expression \"([a-zA-Z]+) (\\d+)\"\n",
    "\t# matches the date string.\n",
    "\n",
    "\t# This will print [14, 21), since it matches at index 14\n",
    "\t# and ends at 21.\n",
    "\tprint (\"Match at index %s, %s\" % (match.start(), match.end()))\n",
    "\n",
    "\t# We use group() method to get all the matches and\n",
    "\t# captured groups. The groups contain the matched values.\n",
    "\t# In particular:\n",
    "\t# match.group(0) always returns the fully matched string\n",
    "\t# match.group(1) match.group(2), ... return the capture\n",
    "\t# groups in order from left to right in the input string\n",
    "\t# match.group() is equivalent to match.group(0)\n",
    "\n",
    "\t# So this will print \"June 24\"\n",
    "\tprint (\"Full match: %s\" % (match.group(0)))\n",
    "\n",
    "\t# So this will print \"June\"\n",
    "\tprint (\"Month: %s\" % (match.group(1)))\n",
    "\n",
    "\t# So this will print \"24\"\n",
    "\tprint (\"Day: %s\" % (match.group(2)))\n",
    "\n",
    "else:\n",
    "\tprint (\"The regex pattern does not match.\")\n"
   ]
  },
  {
   "cell_type": "code",
   "execution_count": 47,
   "id": "0f3c54e0",
   "metadata": {},
   "outputs": [
    {
     "name": "stdout",
     "output_type": "stream",
     "text": [
      "['2', '7', '10']\n"
     ]
    }
   ],
   "source": [
    "# Python program to extract numeric digit \n",
    "# from A string by regular expression... \n",
    "\n",
    "# Importing module required for regular \n",
    "# expressions \n",
    "import re \n",
    "\n",
    "# Example String \n",
    "s = 'My 2 favourite numbers are 7 and 10'\n",
    "\n",
    "# find all function to select all digit from 0 \n",
    "# to 9 [0-9] for numeric Letter in the String \n",
    "# + for repeats a character one or more times \n",
    "lst = re.findall('[0-9]+', s)\t \n",
    "\n",
    "# Printing of List \n",
    "print(lst) \n"
   ]
  },
  {
   "cell_type": "code",
   "execution_count": 51,
   "id": "6f40ca02",
   "metadata": {},
   "outputs": [
    {
     "name": "stdout",
     "output_type": "stream",
     "text": [
      "['shubhamg199630@gmail.com', 'priya@yahoo.com']\n"
     ]
    }
   ],
   "source": [
    "# Python program to extract emails From \n",
    "# the String By Regular Expression. \n",
    "\n",
    "# Importing module required for regular \n",
    "# expressions \n",
    "import re \n",
    "\n",
    "# Example string \n",
    "s = \"\"\"Hello from shubhamg199630@gmail.com \n",
    "\t\tto priya@yahoo.com about the meeting @2PM\"\"\"\n",
    "\n",
    "# \\S matches any non-whitespace character \n",
    "# @ for as in the Email \n",
    "# + for Repeats a character one or more times \n",
    "lst = re.findall('\\S+@\\S+', s)\t \n",
    "\n",
    "# Printing of List \n",
    "print(lst) \n"
   ]
  },
  {
   "cell_type": "code",
   "execution_count": null,
   "id": "451f4f11",
   "metadata": {},
   "outputs": [],
   "source": []
  }
 ],
 "metadata": {
  "kernelspec": {
   "display_name": "Python 3 (ipykernel)",
   "language": "python",
   "name": "python3"
  },
  "language_info": {
   "codemirror_mode": {
    "name": "ipython",
    "version": 3
   },
   "file_extension": ".py",
   "mimetype": "text/x-python",
   "name": "python",
   "nbconvert_exporter": "python",
   "pygments_lexer": "ipython3",
   "version": "3.10.9"
  }
 },
 "nbformat": 4,
 "nbformat_minor": 5
}
